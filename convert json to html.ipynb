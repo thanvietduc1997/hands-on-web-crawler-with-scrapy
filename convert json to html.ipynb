{
 "cells": [
  {
   "cell_type": "code",
   "execution_count": 13,
   "metadata": {},
   "outputs": [],
   "source": [
    "import json"
   ]
  },
  {
   "cell_type": "code",
   "execution_count": 23,
   "metadata": {},
   "outputs": [],
   "source": [
    "with open('QA.json') as f:\n",
    "    qa = json.load(f)"
   ]
  },
  {
   "cell_type": "code",
   "execution_count": 24,
   "metadata": {},
   "outputs": [],
   "source": [
    "def divide_chunks(l, n): \n",
    "    # looping till length l \n",
    "    for i in range(0, len(l), n):  \n",
    "        yield l[i:i + n] "
   ]
  },
  {
   "cell_type": "code",
   "execution_count": 27,
   "metadata": {},
   "outputs": [],
   "source": [
    "out = ['<!DOCTYPE html>']\n",
    "out.append('<body>')\n",
    "out.append('<h1 id=\"table-of-contents\">Table of contents</h1>')\n",
    "for t in qa:\n",
    "    out.append('<li><a href=\"#{}\">{}</a></li>'.format(t['NameId'], t['ChapterName']))\n",
    "\n",
    "for k, e in enumerate(qa):\n",
    "    x = e.get('QuestionAnswer')\n",
    "    out.append('<h1 id={}>'.format(e['NameId'])+x[0]+'</h1>')\n",
    "    y = divide_chunks(x[1:], 9)\n",
    "    for t in y:\n",
    "        out.append(''.join('<p>'+'<br>'.join(t)+'</p>'))\n",
    "\n",
    "with open('OS.html', 'w') as f:\n",
    "    for i in out:\n",
    "        f.write(i)"
   ]
  }
 ],
 "metadata": {
  "kernelspec": {
   "display_name": "Python 3",
   "language": "python",
   "name": "python3"
  },
  "language_info": {
   "codemirror_mode": {
    "name": "ipython",
    "version": 3
   },
   "file_extension": ".py",
   "mimetype": "text/x-python",
   "name": "python",
   "nbconvert_exporter": "python",
   "pygments_lexer": "ipython3",
   "version": "3.6.8"
  }
 },
 "nbformat": 4,
 "nbformat_minor": 2
}
