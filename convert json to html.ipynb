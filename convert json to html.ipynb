{
 "cells": [
  {
   "cell_type": "code",
   "execution_count": 13,
   "metadata": {},
   "outputs": [],
   "source": [
    "import json"
   ]
  },
  {
   "cell_type": "code",
   "execution_count": 7,
   "metadata": {},
   "outputs": [
    {
     "name": "stdout",
     "output_type": "stream",
     "text": [
      "OS.html                    q3.json\r\n",
      "README.md                  qa.json\r\n",
      "convert json to html.ipynb qa2.json\r\n",
      "\u001b[1m\u001b[36mcrawler\u001b[m\u001b[m                    qa3.json\r\n",
      "index.html                 scrapy.cfg\r\n",
      "index2.html\r\n"
     ]
    }
   ],
   "source": [
    "!ls"
   ]
  },
  {
   "cell_type": "code",
   "execution_count": 23,
   "metadata": {},
   "outputs": [],
   "source": [
    "with open('qa_final_1.json') as f:\n",
    "    qa = json.load(f)"
   ]
  },
  {
   "cell_type": "code",
   "execution_count": 24,
   "metadata": {},
   "outputs": [],
   "source": [
    "def divide_chunks(l, n): \n",
    "      \n",
    "    # looping till length l \n",
    "    for i in range(0, len(l), n):  \n",
    "        yield l[i:i + n] "
   ]
  },
  {
   "cell_type": "code",
   "execution_count": 27,
   "metadata": {},
   "outputs": [],
   "source": [
    "out = ['<!DOCTYPE html>']\n",
    "out.append('<body>')\n",
    "out.append('<h1 id=\"table-of-contents\">Table of contents</h1>')\n",
    "for t in qa:\n",
    "    out.append('<li><a href=\"#{}\">{}</a></li>'.format(t['NameId'], t['ChapterName']))\n",
    "\n",
    "for k, e in enumerate(qa):\n",
    "    x = e.get('QuestionAnswer')\n",
    "    out.append('<h1 id={}>'.format(e['NameId'])+x[0]+'</h1>')\n",
    "    y = divide_chunks(x[1:], 9)\n",
    "    for t in y:\n",
    "        out.append(''.join('<p>'+'<br>'.join(t)+'</p>'))\n",
    "\n",
    "with open('index3.html', 'w') as f:\n",
    "    for i in out:\n",
    "        f.write(i)"
   ]
  },
  {
   "cell_type": "code",
   "execution_count": null,
   "metadata": {},
   "outputs": [],
   "source": []
  },
  {
   "cell_type": "code",
   "execution_count": null,
   "metadata": {
    "scrolled": false
   },
   "outputs": [],
   "source": [
    "from pprint import pprint\n",
    "\n",
    "[pprint(''.join(x.get('QuestionAnswer'))) for x in qa]"
   ]
  },
  {
   "cell_type": "code",
   "execution_count": null,
   "metadata": {},
   "outputs": [],
   "source": []
  }
 ],
 "metadata": {
  "kernelspec": {
   "display_name": "Python 3",
   "language": "python",
   "name": "python3"
  },
  "language_info": {
   "codemirror_mode": {
    "name": "ipython",
    "version": 3
   },
   "file_extension": ".py",
   "mimetype": "text/x-python",
   "name": "python",
   "nbconvert_exporter": "python",
   "pygments_lexer": "ipython3",
   "version": "3.6.8"
  }
 },
 "nbformat": 4,
 "nbformat_minor": 2
}
